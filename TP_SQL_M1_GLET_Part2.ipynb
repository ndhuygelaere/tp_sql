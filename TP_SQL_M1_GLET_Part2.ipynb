{
 "cells": [
  {
   "cell_type": "markdown",
   "metadata": {},
   "source": [
    "# TP SQL - Postgres/Postgis - M1 GLET - Partie 2"
   ]
  },
  {
   "cell_type": "markdown",
   "metadata": {},
   "source": [
    "La réalisation de ce TP suppose que vous ayez déjà lu et mis en oeuvre le document word d'instruction pour l'installation de l'environnement de travail.\n",
    "\n",
    "Le TP est à rendre avant le vendredi 15 mai 17h00 par un envoi du notebook sur ma boite mail.\n",
    "\n",
    "En cas de besoin envoyez moi un mail à n.dhuygelaere@oieau.fr ou contactez moi via skype à n.dhuygelaere.\n",
    "\n",
    "Pour cette deuxième partie du TP, nous allons nous allons utiliser quelques fonctions de Postgis."
   ]
  },
  {
   "cell_type": "markdown",
   "metadata": {},
   "source": [
    "## I. Initialisation des variables et chargement des librairies"
   ]
  },
  {
   "cell_type": "code",
   "execution_count": null,
   "metadata": {},
   "outputs": [],
   "source": [
    "#Cette première cellule permet de charger en mémoire toutes les librairies qui vous seront utiles\n",
    "%matplotlib inline\n",
    "from matplotlib import pyplot as plt\n",
    "import psycopg2 as pg\n",
    "import numpy as np\n",
    "import pandas.io.sql as psql\n",
    "import pandas as pd\n",
    "import folium\n",
    "from IPython.display import display\n",
    "from IPython.display import HTML\n",
    "\n",
    "#Paramètres de connexion à la base postgres\n",
    "conn = pg.connect(\"dbname=tp_sql port=5432 user=postgres password=postgres\")\n",
    "\n",
    "#La requête suivante va nous permettre de tester le bon fonctionnement de la connexion \n",
    "# en affichant le code et le nom des 10 premiers tuples de la table sous_secteur\n",
    "# La clause SQL LIMIT permet de ne retourner que les 10 premiers tuples\n",
    "test = psql.read_sql(\"SELECT cdsoussect,lbsoussect  FROM sous_secteur LIMIT 10\", conn)\n",
    "test"
   ]
  },
  {
   "cell_type": "markdown",
   "metadata": {},
   "source": [
    "## II. Postgis "
   ]
  },
  {
   "cell_type": "markdown",
   "metadata": {},
   "source": [
    "Pour mémoire, nous avons chargé 3 tables dans notre base de données : \"sous_secteur\", \"obstacles\" et \"coursdeau\". Les tables \"sous_secteur\" et \"coursdeau\" sont issues de la BD Carthage 2017. La table \"obstacles\" correspond à l'inventaire des obstacles à l'écoulement identifiés par le Système d'Information sur l'Eau. \n",
    "\n",
    "* La table sous_secteur contient des polygones\n",
    "* La table coursdeau contient des lignes\n",
    "* la table obstacles contient des points.\n",
    "\n",
    "Toutes ces tables utilisent la projection lambert 93 (EPSG:2154) qui est une projection métrique. Les différents fonction de calcul que nous utiliserons donne le résulat dans l'unité de la projection de la géométrie. Nous n'auront donc pas besoin de convertir les coordonnées en projection métrique pour faire ces calculs. SI nous avions des données en WGS 84 (EPSG:4326), cette convertion serait nécessaire au risque d'avoir des résultats exprimés en degrés. "
   ]
  },
  {
   "cell_type": "markdown",
   "metadata": {},
   "source": [
    "### II.1. Calcul d'une longueur"
   ]
  },
  {
   "cell_type": "markdown",
   "metadata": {},
   "source": [
    "A l'aide de la fonction **st_length** https://postgis.net/docs/ST_Length.html, calculez la longueur de la rivière (table coursdeau) \"la morelle\" de code (colonne cdentitehy) : H71-0400\n"
   ]
  },
  {
   "cell_type": "code",
   "execution_count": null,
   "metadata": {},
   "outputs": [],
   "source": [
    "l_morelle = psql.read_sql(\"Votre requête ICI\", conn)\n",
    "l_morelle"
   ]
  },
  {
   "cell_type": "markdown",
   "metadata": {},
   "source": [
    "### II.2. Calcul d'une superficie"
   ]
  },
  {
   "cell_type": "markdown",
   "metadata": {},
   "source": [
    "A l'aide de la fonction **st_area** : https://postgis.net/docs/ST_Area.html, afficher les noms (lbsoussect) et les codes (cdsoussect) des sous-secteurs et calculez la superficie de tous les sous-secteurs hydrographiques (table sous_secteur) de la région hydrographique \"La Dordogne\" (colonne cdregionhy = P)"
   ]
  },
  {
   "cell_type": "code",
   "execution_count": null,
   "metadata": {},
   "outputs": [],
   "source": [
    "surf_dordogne = psql.read_sql(\"Votre requête ICI\", conn)\n",
    "surf_dordogne"
   ]
  },
  {
   "cell_type": "markdown",
   "metadata": {},
   "source": [
    "### II.3. Croisements géographiques"
   ]
  },
  {
   "cell_type": "markdown",
   "metadata": {},
   "source": [
    "Postgis dispose d'un grand nombre de fonctions permettant de faire des croisements géographiques. La documentation officielle est disponible à cette adresse : https://postgis.net/docs/reference.html#Spatial_Relationships . Pour ce TP nous utiliserons les fonctions :\n",
    "- **st_intersects** qui permet de vérifier si il y a intersection entre 2 géométries\n",
    "==> la doc est ici : https://postgis.net/docs/ST_Intersects.html\n",
    "- **st_contains** qui permet de vérifier si une géométrie en contient une autre\n",
    "==> la doc est ici : https://postgis.net/docs/ST_Contains.html\n",
    "\n",
    "Une explication plus détaillée des différentes relation géographique est disponible ici : https://postgis.net/docs/using_postgis_dbmanagement.html#DE-9IM ; Je pense que vous étudierez ces éléments en détail l'année prochaine dans le cadre du module postgres/postgis assuré par un autre intervenant."
   ]
  },
  {
   "cell_type": "markdown",
   "metadata": {},
   "source": [
    "Exemple : je souhaite trouver tous les obstacles à l'écoulement contenus dans la région hydrographique de la Dordogne et je les affiche ensuite sur une carte\n"
   ]
  },
  {
   "cell_type": "code",
   "execution_count": null,
   "metadata": {},
   "outputs": [],
   "source": [
    "#Requete de selection\n",
    "\n",
    "obs_dordogne = psql.read_sql(\" \\\n",
    "    SELECT obs.cdobstecou, st_x(st_transform(obs.geom, 4326)) as x, st_y(st_transform(obs.geom, 4326)) as y \\\n",
    "    FROM sous_secteur ss, obstacles obs \\\n",
    "    WHERE ss.cdregionhy='P' \\\n",
    "         AND ss.geom && obs.geom \\\n",
    "         AND st_contains(ss.geom, obs.geom)\", conn)\n",
    "obs_dordogne"
   ]
  },
  {
   "cell_type": "code",
   "execution_count": null,
   "metadata": {},
   "outputs": [],
   "source": [
    "#Affichage sur la carte\n",
    "display(HTML(\"<h2>Carte des obstacles à l'écoulement de la région hydrographique \\\"La dordogne\\\"</h2>\"))\n",
    "lat_mean = np.mean(obs_dordogne.y)\n",
    "lon_mean = np.mean(obs_dordogne.x)\n",
    "print(\"Centre de la carte (lat, lon)\", lat_mean, lon_mean)\n",
    "\n",
    "map = folium.Map(\n",
    "    tiles='OpenStreetMap',\n",
    "    location=(lat_mean, lon_mean),\n",
    "    zoom_start=7\n",
    ")\n",
    "folium.LayerControl().add_to(map)\n",
    "map_tooltip = 'Click me!'\n",
    "#Add markers on map\n",
    "for lat, lon, code in zip(obs_dordogne.y, obs_dordogne.x, obs_dordogne.cdobstecou):\n",
    "    folium.Marker(\n",
    "        [lat, lon], \n",
    "        popup=f'<b><a target=\"_blank\" href=\"http://www.sandre.eaufrance.fr/urn.php?urn=urn:sandre:donnees:ObstEcoul:FRA:code:{code}:::::html\">{code}</a></b>',\n",
    "        tooltip=map_tooltip\n",
    "    ).add_to(map)\n",
    "\n",
    "display(map)"
   ]
  },
  {
   "cell_type": "markdown",
   "metadata": {},
   "source": [
    "1. Sur le même principe que ci-dessus, écrire la requête pour sélectionner tous les obstacles à l'écoulement de la région de la Meuse (code : B)\n",
    "2. A partir de la requête du point 1, faire le même croisement en utilisant la fonction st_intersects, que constatez vous ?\n",
    "3. Sélectionnez tous les cours d'eau (table coursdeau) de la région hydrographique de la Meuss (code : B) en utilisant\n",
    "    * La fonction st_contains\n",
    "    * La fonction st_intersects\n",
    "    * Comparer les résultats"
   ]
  },
  {
   "cell_type": "code",
   "execution_count": null,
   "metadata": {},
   "outputs": [],
   "source": [
    "#1"
   ]
  },
  {
   "cell_type": "code",
   "execution_count": null,
   "metadata": {},
   "outputs": [],
   "source": [
    "#2"
   ]
  },
  {
   "cell_type": "code",
   "execution_count": null,
   "metadata": {},
   "outputs": [],
   "source": [
    "#3.1"
   ]
  },
  {
   "cell_type": "code",
   "execution_count": null,
   "metadata": {},
   "outputs": [],
   "source": [
    "#3.2"
   ]
  },
  {
   "cell_type": "markdown",
   "metadata": {},
   "source": [
    "4. Trouver la liste des obstacles à l'écoulement situés sur le cours d'eau la morelle de code : H71-0400\n",
    "    4.1. En faisant une sélection attributaire sur la colonne **cdentitehy** de la table **obstacles**\n",
    "    4.2. En faisant un croisement géographique à l'aide de la fonction **st_intersects** sur les colonnes **geom** des tables **coursdeau** et **obstacles**. Selon vous pourquoi le résultat n'est pas le même (Vous pouvez vous aider de QGIS pour visualiser les géometries) ?\n",
    "    4.3. Refaite la requête du 4.2, en faisant un buffer de 100 mètres autours des obstacles à l'écoulement à la l'aide  de la fonction **st_buffer** : https://postgis.net/docs/ST_Buffer.html\n",
    "    "
   ]
  },
  {
   "cell_type": "code",
   "execution_count": null,
   "metadata": {},
   "outputs": [],
   "source": [
    "#4.1"
   ]
  },
  {
   "cell_type": "code",
   "execution_count": null,
   "metadata": {},
   "outputs": [],
   "source": [
    "#4.2"
   ]
  },
  {
   "cell_type": "code",
   "execution_count": null,
   "metadata": {},
   "outputs": [],
   "source": [
    "#4.3"
   ]
  },
  {
   "cell_type": "code",
   "execution_count": null,
   "metadata": {},
   "outputs": [],
   "source": []
  },
  {
   "cell_type": "code",
   "execution_count": null,
   "metadata": {},
   "outputs": [],
   "source": []
  }
 ],
 "metadata": {
  "kernelspec": {
   "display_name": "'Python(tp_sql)'",
   "language": "python",
   "name": "tp_sql"
  },
  "language_info": {
   "codemirror_mode": {
    "name": "ipython",
    "version": 3
   },
   "file_extension": ".py",
   "mimetype": "text/x-python",
   "name": "python",
   "nbconvert_exporter": "python",
   "pygments_lexer": "ipython3",
   "version": "3.7.6"
  }
 },
 "nbformat": 4,
 "nbformat_minor": 4
}
