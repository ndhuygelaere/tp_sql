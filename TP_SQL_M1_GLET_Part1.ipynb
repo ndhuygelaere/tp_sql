{
 "cells": [
  {
   "cell_type": "markdown",
   "metadata": {},
   "source": [
    "# TP SQL - Postgres/Postgis - M1 GLET"
   ]
  },
  {
   "cell_type": "markdown",
   "metadata": {},
   "source": [
    "La réalisation de ce TP suppose que vous ayez déjà lu et mis en oeuvre le document word d'instruction pour l'installation de l'environnement de travail.\n",
    "\n",
    "Le TP est à rendre avant le vendredi 15 mai 17h00 par un envoi du notebook sur ma boite mail.\n",
    "\n",
    "En cas de besoin envoyez moi un mail à n.dhuygelaere@oieau.fr ou contactez moi via skype à n.dhuygelaere."
   ]
  },
  {
   "cell_type": "markdown",
   "metadata": {},
   "source": [
    "## Comment fonctionne un Notebook ?\n",
    "\n",
    "Bonne question!\n",
    "\n",
    "Je vous invite à visionner cette vidéo : https://www.youtube.com/watch?v=qZiN0dzx8ag qui vous expliquera les différentes fonctions de base et notamment comment créer et executer des cellules. Le but de ce TP n'est pas de faire de vous des pro de la programmation python mais de vous faire travailler le SQL avec postgres. Ainsi, vous écrivez les requêtes et je vous montre différentes utilisations possibles de vos données avec les librairies pythons.\n",
    "\n",
    "Bon courage !"
   ]
  },
  {
   "cell_type": "markdown",
   "metadata": {},
   "source": [
    "**IL EST INDISPENSABLE D'EXECUTER TOUTES LES CELLULES AU FUR ET A MESURE !**\n",
    "\n",
    "Il est possible d'éxecuter toutes les cellules en utilisant l'entrée de menu **Kernel > Restart & Run All**"
   ]
  },
  {
   "cell_type": "markdown",
   "metadata": {},
   "source": [
    "## Chargement des libraires python"
   ]
  },
  {
   "cell_type": "code",
   "execution_count": null,
   "metadata": {},
   "outputs": [],
   "source": [
    "#Cette première cellule permet de charger en mémoire toutes les librairies qui vous seront utiles\n",
    "%matplotlib inline\n",
    "from matplotlib import pyplot as plt\n",
    "import psycopg2 as pg\n",
    "import numpy as np\n",
    "import pandas.io.sql as psql\n",
    "import pandas as pd\n",
    "import folium\n",
    "from IPython.display import display\n",
    "from IPython.display import HTML"
   ]
  },
  {
   "cell_type": "markdown",
   "metadata": {},
   "source": [
    "## Connexion à la base"
   ]
  },
  {
   "cell_type": "markdown",
   "metadata": {},
   "source": [
    "Si vous avez suivi les instructions d'installation contenues dans le document word, vous devez avoir un serveur postgres actif sur votre machine (en localhost) qui fonctionne sur le port **5432** et dont le compte du super admin est **postgres/postgres**"
   ]
  },
  {
   "cell_type": "code",
   "execution_count": null,
   "metadata": {},
   "outputs": [],
   "source": [
    "#Paramètres de connexion à la base postgres\n",
    "conn = pg.connect(\"dbname=tp_sql port=5432 user=postgres password=postgres\")\n",
    "\n",
    "#La requête suivante va nous permettre de tester le bon fonctionnement de la connexion \n",
    "# en affichant le code et le nom des 10 premiers tuples de la table sous_secteur\n",
    "# La clause SQL LIMIT permet de ne retourner que les 10 premiers tuples\n",
    "test = psql.read_sql(\"SELECT cdsoussect,lbsoussect  FROM sous_secteur LIMIT 10\", conn)\n",
    "test\n"
   ]
  },
  {
   "cell_type": "markdown",
   "metadata": {},
   "source": [
    "## Quelques astuces python"
   ]
  },
  {
   "cell_type": "markdown",
   "metadata": {},
   "source": [
    "* Pour afficher le contenu d'une variable il suffit simplement d'écrire son nom sur la dernière ligne de la cellule (comme dans le cas ci-dessus ou la dernière ligne est \"test\") ou d'utiliser la fonction print"
   ]
  },
  {
   "cell_type": "code",
   "execution_count": null,
   "metadata": {},
   "outputs": [],
   "source": [
    "print(\"Salut\")\n",
    "test"
   ]
  },
  {
   "cell_type": "markdown",
   "metadata": {},
   "source": [
    "* Pour afficher uniquement les premières lignes d'un dataframe (un tabeau), il faut utiliser la fonction **head()** avec le nombre de lignes souhaitées à notre tableau: ex : test.head(3)"
   ]
  },
  {
   "cell_type": "code",
   "execution_count": null,
   "metadata": {},
   "outputs": [],
   "source": [
    "test.head(3)\n"
   ]
  },
  {
   "cell_type": "markdown",
   "metadata": {},
   "source": [
    "* Pour afficher uniquement les dernières lignes d'un dataframe (un tabeau), il faut utiliser la fonction **tail()** avec le nombre de lignes souhaitées à notre tableau: ex : test.tail(3)"
   ]
  },
  {
   "cell_type": "code",
   "execution_count": null,
   "metadata": {},
   "outputs": [],
   "source": [
    "test.tail(3)"
   ]
  },
  {
   "cell_type": "markdown",
   "metadata": {},
   "source": [
    "* Pour connaitre la liste des colonnes d'un dataframe (un tabeau), il faut utiliser la propriété **column**"
   ]
  },
  {
   "cell_type": "code",
   "execution_count": null,
   "metadata": {},
   "outputs": [],
   "source": [
    "test.columns"
   ]
  },
  {
   "cell_type": "markdown",
   "metadata": {},
   "source": [
    "* Pour connaitre les types des colonnes d'un dataframe (un tabeau), il faut utiliser la propriété **dtypes**"
   ]
  },
  {
   "cell_type": "code",
   "execution_count": null,
   "metadata": {},
   "outputs": [],
   "source": [
    "test.dtypes"
   ]
  },
  {
   "cell_type": "markdown",
   "metadata": {},
   "source": [
    "## Et maintenant jouons !"
   ]
  },
  {
   "cell_type": "markdown",
   "metadata": {},
   "source": [
    "1. Afficher la liste des colonnes des tables **\"sous_secteur\", \"obstacles\" et \"coursdeau\"** à l'aide d'une requête de type \"SELECT * FROM *ma_table*\""
   ]
  },
  {
   "cell_type": "code",
   "execution_count": null,
   "metadata": {},
   "outputs": [],
   "source": [
    "#1.1 sous_secteur"
   ]
  },
  {
   "cell_type": "code",
   "execution_count": null,
   "metadata": {},
   "outputs": [],
   "source": [
    "#1.2 obstacles"
   ]
  },
  {
   "cell_type": "code",
   "execution_count": null,
   "metadata": {},
   "outputs": [],
   "source": [
    "#1.3 coursdeau"
   ]
  },
  {
   "cell_type": "markdown",
   "metadata": {},
   "source": [
    "2. Compter le nombre d'élément contenu dans chacune des tables,"
   ]
  },
  {
   "cell_type": "code",
   "execution_count": null,
   "metadata": {},
   "outputs": [],
   "source": [
    "#2.1 sous_secteur"
   ]
  },
  {
   "cell_type": "code",
   "execution_count": null,
   "metadata": {},
   "outputs": [],
   "source": [
    "#2.2 obstacles"
   ]
  },
  {
   "cell_type": "code",
   "execution_count": null,
   "metadata": {},
   "outputs": [],
   "source": [
    "#2.3 coursdeau"
   ]
  },
  {
   "cell_type": "markdown",
   "metadata": {},
   "source": [
    "3. Compter le nombre d'obstacles à l'écoulement par département (grouper par la colonne **\"cddepartem\"** et utiliser l'alias **\"nb_obs\"** pour le résultat du comptage) et stocker le résultat dans la variable **\"nb_obs_dpt\"**"
   ]
  },
  {
   "cell_type": "code",
   "execution_count": null,
   "metadata": {},
   "outputs": [],
   "source": [
    "#3\n",
    "nb_obs_dpt = psql.read_sql(\"Votre requete ici\", conn)"
   ]
  },
  {
   "cell_type": "markdown",
   "metadata": {},
   "source": [
    "A l'aide du résultat du 3ème point, nous allons afficher un histogramme de notre résultat.\n",
    "**Note** : Pour ceux qui veulent aller plus loin dans la mise en forme du graphique, la doc est consultable ici : https://matplotlib.org/3.1.0/api/_as_gen/matplotlib.pyplot.bar.html"
   ]
  },
  {
   "cell_type": "code",
   "execution_count": null,
   "metadata": {},
   "outputs": [],
   "source": [
    "plt.rcParams[\"figure.figsize\"] = (18,7)\n",
    "nb_obs_dpt.plot.bar(width=1, color='orange')\n",
    "plt.show()\n"
   ]
  },
  {
   "cell_type": "markdown",
   "metadata": {},
   "source": [
    "4. Selectionner tous les obstacles à l'écoulement du Loiret (département 45) et conserver les résulats dans la variable **obs_45**"
   ]
  },
  {
   "cell_type": "code",
   "execution_count": null,
   "metadata": {},
   "outputs": [],
   "source": [
    "obs_45 = psql.read_sql(\"Votre requete ICI\", conn)\n",
    "obs_45"
   ]
  },
  {
   "cell_type": "markdown",
   "metadata": {},
   "source": [
    "5. Nous allons utiliser le résultat du point 4 pour faire une carte dynamique avec folium. Pour celà il faut convertir les coordonnées géographiques du champ geom en WGS 84 et dans un format utilisable par folium c'est à dire des coordonnées X et Y.\n",
    "\n",
    "Postgres conserve ses données géographiques au format \"geometry\" ou \"geography\". Il faut donc convertir le champ \"geom\" en une colonne X et en une colonne Y. Par ailleurs, nos données sont en lambert 93 alors que folium attend ses coordonnées en WGS 84. \n",
    "* st_transform() : https://postgis.net/docs/ST_Transform.html\n",
    "* st_x() : https://postgis.net/docs/ST_X.html\n",
    "* st_y() : https://postgis.net/docs/ST_Y.html"
   ]
  },
  {
   "cell_type": "code",
   "execution_count": null,
   "metadata": {},
   "outputs": [],
   "source": [
    "obs_45 = psql.read_sql(\"Votre requete ICI\", conn)\n",
    "obs_45"
   ]
  },
  {
   "cell_type": "code",
   "execution_count": null,
   "metadata": {},
   "outputs": [],
   "source": [
    "display(HTML(\"<h2>Carte des obstacles à l'écoulement du Loiret</h2>\"))\n",
    "lat_mean = np.mean(obs_45.y)\n",
    "lon_mean = np.mean(obs_45.x)\n",
    "print(\"Centre de la carte (lat, lon)\", lat_mean, lon_mean)\n",
    "\n",
    "map = folium.Map(\n",
    "    tiles='OpenStreetMap',\n",
    "    location=(lat_mean, lon_mean),\n",
    "    zoom_start=9\n",
    ")\n",
    "folium.LayerControl().add_to(map)\n",
    "map_tooltip = 'Click me!'\n",
    "#Add markers on map\n",
    "for lat, lon, code in zip(obs_45.y, obs_45.x, obs_45.cdobstecou):\n",
    "    folium.Marker(\n",
    "        [lat, lon], \n",
    "        popup=f'<b><a target=\"_blank\" href=\"http://www.sandre.eaufrance.fr/urn.php?urn=urn:sandre:donnees:ObstEcoul:FRA:code:{code}:::::html\">{code}</a></b>',\n",
    "        tooltip=map_tooltip\n",
    "    ).add_to(map)\n",
    "\n",
    "display(map)"
   ]
  },
  {
   "cell_type": "code",
   "execution_count": null,
   "metadata": {},
   "outputs": [],
   "source": []
  },
  {
   "cell_type": "code",
   "execution_count": null,
   "metadata": {},
   "outputs": [],
   "source": []
  }
 ],
 "metadata": {
  "kernelspec": {
   "display_name": "'Python(tp_sql)'",
   "language": "python",
   "name": "tp_sql"
  },
  "language_info": {
   "codemirror_mode": {
    "name": "ipython",
    "version": 3
   },
   "file_extension": ".py",
   "mimetype": "text/x-python",
   "name": "python",
   "nbconvert_exporter": "python",
   "pygments_lexer": "ipython3",
   "version": "3.7.6"
  }
 },
 "nbformat": 4,
 "nbformat_minor": 4
}
